{
 "cells": [
  {
   "cell_type": "code",
   "metadata": {
    "ExecuteTime": {
     "end_time": "2024-06-21T07:44:20.418741Z",
     "start_time": "2024-06-21T07:44:20.381052Z"
    }
   },
   "source": [
    "import sys\n",
    "import os\n",
    "\n",
    "# 指定Python解释器的搜索路径\n",
    "notebook_path = os.path.abspath('')\n",
    "project_root = os.path.dirname(notebook_path)\n",
    "sys.path.append(project_root)\n",
    "\n",
    "import gxipy as gx\n",
    "from PIL import Image\n",
    "import datetime\n",
    "import time"
   ],
   "outputs": [],
   "execution_count": 6
  },
  {
   "cell_type": "markdown",
   "metadata": {},
   "source": [
    "## 工具类"
   ]
  },
  {
   "cell_type": "code",
   "metadata": {
    "ExecuteTime": {
     "end_time": "2024-06-21T07:44:21.855370Z",
     "start_time": "2024-06-21T07:44:21.849856Z"
    }
   },
   "source": [
    "def print_promotion(message):\n",
    "    print(\"\")\n",
    "    print(\"-------------------------------------------------------------\")\n",
    "    if message is not None:\n",
    "        print(message)\n",
    "    print(\"-------------------------------------------------------------\")\n",
    "    print(\"\")\n"
   ],
   "outputs": [],
   "execution_count": 7
  },
  {
   "cell_type": "markdown",
   "metadata": {},
   "source": [
    "## 采集程序"
   ]
  },
  {
   "cell_type": "markdown",
   "metadata": {},
   "source": [
    "### 创建设备管理对象"
   ]
  },
  {
   "cell_type": "code",
   "metadata": {
    "ExecuteTime": {
     "end_time": "2024-06-21T07:44:25.730034Z",
     "start_time": "2024-06-21T07:44:25.724033Z"
    }
   },
   "source": [
    "device_manager = gx.DeviceManager()"
   ],
   "outputs": [],
   "execution_count": 8
  },
  {
   "cell_type": "markdown",
   "metadata": {},
   "source": [
    "### 枚举设备"
   ]
  },
  {
   "cell_type": "code",
   "metadata": {
    "ExecuteTime": {
     "end_time": "2024-06-21T07:44:28.091527Z",
     "start_time": "2024-06-21T07:44:27.862238Z"
    }
   },
   "source": [
    "dev_num, dev_info_list = device_manager.update_device_list()\n",
    "if dev_num == 0:\n",
    "    print(\"Number of enumerated devices is 0\")\n",
    "else:\n",
    "    print_promotion(\"创建设备成功，设备数量为:%d\" % dev_num)\n"
   ],
   "outputs": [
    {
     "name": "stdout",
     "output_type": "stream",
     "text": [
      "\n",
      "-------------------------------------------------------------\n",
      "创建设备成功，设备数量为:1\n",
      "-------------------------------------------------------------\n",
      "\n"
     ]
    }
   ],
   "execution_count": 9
  },
  {
   "metadata": {},
   "cell_type": "markdown",
   "source": "### 测试用例"
  },
  {
   "metadata": {},
   "cell_type": "code",
   "outputs": [],
   "execution_count": null,
   "source": [
    "def set_params(cam):\n",
    "    width_set  = 2448  # 设置分辨率宽\n",
    "    height_set = 2048  # 设置分辨率高\n",
    "    # 设置宽和高\n",
    "    cam.Width.set(width_set)\n",
    "    cam.Height.set(height_set)\n",
    "\n",
    "    # 设置连续采集\n",
    "    # cam.TriggerMode.set(gx.GxSwitchEntry.ON)  # 设置外触发模式\n",
    "    # cam.TriggerSource.set(gx.GxTriggerSourceEntry.LINE1)  # 设置触发源\n",
    "    # cam.ExposureTime.set(10000.0)  # 设置曝光时间\n",
    "    # cam.Gain.set(10.0)  # 设置增益\n",
    "\n",
    "    # 设置帧率\n",
    "    cam.AcquisitionFrameRateMode.set(gx.GxSwitchEntry.ON)\n",
    "    cam.AcquisitionFrameRate.set(framerate_set)\n",
    "    # 自动白平衡\n",
    "    cam.BalanceWhiteAuto.set(gx.GxAutoEntry.CONTINUOUS)\n",
    "    # 自动曝光\n",
    "    cam.ExposureAuto.set(gx.GxAutoEntry.CONTINUOUS)  # 或者gx.GxAutoEntry.ONCE"
   ]
  },
  {
   "metadata": {
    "ExecuteTime": {
     "end_time": "2024-06-21T07:55:12.509237Z",
     "start_time": "2024-06-21T07:55:12.243357Z"
    }
   },
   "cell_type": "code",
   "source": [
    "# 相机参数单元\n",
    "cam = device_manager.open_device_by_sn(dev_info_list[0].get(\"sn\"))\n",
    "print_promotion(\"打开彩色摄像机成功，SN号为：%s\" % dev_info_list[0].get(\"sn\"))\n",
    "\n",
    "set_params(cam)\n",
    "\n",
    "\n",
    "\n",
    "cam.close_device()\n",
    "print_promotion(\"摄像机已经关闭！\")"
   ],
   "outputs": [
    {
     "name": "stdout",
     "output_type": "stream",
     "text": [
      "\n",
      "-------------------------------------------------------------\n",
      "打开彩色摄像机成功，SN号为：LKS24040027\n",
      "-------------------------------------------------------------\n",
      "\n",
      "\n",
      "-------------------------------------------------------------\n",
      "摄像机已经关闭！\n",
      "-------------------------------------------------------------\n",
      "\n"
     ]
    }
   ],
   "execution_count": 13
  },
  {
   "cell_type": "markdown",
   "metadata": {},
   "source": [
    "### 相机参数设置"
   ]
  },
  {
   "cell_type": "code",
   "metadata": {
    "ExecuteTime": {
     "end_time": "2024-06-19T06:23:33.876903Z",
     "start_time": "2024-06-19T06:23:33.872900Z"
    }
   },
   "source": [
    "def camera_params_setting(cameras):\n",
    "    width_set = 2448  # 设置分辨率宽\n",
    "    height_set = 2048  # 设置分辨率高\n",
    "    framerate_set = 20  # 设置帧率\n",
    "\n",
    "    for cam in cameras:\n",
    "        # 设置宽和高\n",
    "        cam.Width.set(width_set)\n",
    "        cam.Height.set(height_set)\n",
    "\n",
    "        # 设置连续采集\n",
    "        # cam.TriggerMode.set(gx.GxSwitchEntry.ON)  # 设置外触发模式\n",
    "        # cam.TriggerSource.set(gx.GxTriggerSourceEntry.LINE1)  # 设置触发源\n",
    "        # cam.ExposureTime.set(10000.0)  # 设置曝光时间\n",
    "        # cam.Gain.set(10.0)  # 设置增益\n",
    "\n",
    "        # 设置帧率\n",
    "        cam.AcquisitionFrameRateMode.set(gx.GxSwitchEntry.ON)\n",
    "        cam.AcquisitionFrameRate.set(framerate_set)\n",
    "        # 自动白平衡\n",
    "        cam.BalanceWhiteAuto.set(gx.GxAutoEntry.CONTINUOUS)\n",
    "        # 自动曝光\n",
    "        cam.ExposureAuto.set(gx.GxAutoEntry.CONTINUOUS)  # 或者gx.GxAutoEntry.ONCE\n"
   ],
   "outputs": [],
   "execution_count": 5
  },
  {
   "cell_type": "markdown",
   "metadata": {},
   "source": [
    "### 图像采集设置"
   ]
  },
  {
   "cell_type": "code",
   "metadata": {
    "ExecuteTime": {
     "end_time": "2024-06-19T06:23:36.455459Z",
     "start_time": "2024-06-19T06:23:36.446458Z"
    }
   },
   "source": [
    "def acquisition_setting(cam, num, framerate_set):\n",
    "    \"\"\"\n",
    "    cam: 相机对象\n",
    "    num: 采集的图像数量\n",
    "    framerate_set: 设置的采集帧率\n",
    "    \"\"\"\n",
    "    cam.stream_on()\n",
    "\n",
    "    # 采集图像\n",
    "    for i in range(num):\n",
    "        framerate_get = cam.CurrentAcquisitionFrameRate.get()  # 获取当前采集的帧率\n",
    "        raw_image = cam.data_stream[0].get_image()  # 打开第0通道数据流\n",
    "        if raw_image is None:\n",
    "            print(\"获取彩色原始图像失败.\")\n",
    "            continue\n",
    "        rgb_image = raw_image.convert(\"RGB\")  # 从彩色原始图像获取RGB图像\n",
    "        if rgb_image is None:\n",
    "            continue\n",
    "        # rgb_image.image_improvement(color_correction_param, contrast_lut, gamma_lut)  # 实现图像增强\n",
    "        numpy_image = rgb_image.get_numpy_array()  # 从RGB图像数据创建numpy数组\n",
    "        if numpy_image is None:\n",
    "            continue\n",
    "        img = Image.fromarray(numpy_image, 'RGB')  # 展示获取的图像\n",
    "        # img.show()\n",
    "        mtime = datetime.datetime.now().strftime('%Y-%m-%d_%H_%M_%S')\n",
    "        img.save(r\"D:\\FileDevelop\\DevelopTools\\Pycharm\\DaHengImage\\Galaxy\\CaptureByScripts\\\\\" + mtime + str(\"-\") + str(\n",
    "            i) + \".jpg\")  # 保存图片到本地\n",
    "        print(\"Frame ID: %d   Height: %d   Width: %d   framerate_set:%dfps   framerate_get:%dfps\"\n",
    "              % (raw_image.get_frame_id(), raw_image.get_height(), raw_image.get_width(), framerate_set,\n",
    "                 framerate_get))  # 打印采集的图像的高度、宽度、帧ID、用户设置的帧率、当前采集到的帧率"
   ],
   "outputs": [],
   "execution_count": 6
  },
  {
   "cell_type": "markdown",
   "metadata": {},
   "source": [
    "### 图像采集过程"
   ]
  },
  {
   "cell_type": "code",
   "metadata": {
    "ExecuteTime": {
     "end_time": "2024-06-21T06:12:02.648887Z",
     "start_time": "2024-06-21T06:12:02.380649Z"
    }
   },
   "source": [
    "framerate_set = 20  # 设置帧率\n",
    "num = 1  # 采集帧率次数（为调试用，可把后边的图像采集设置成while循环，进行无限制循环采集）\n",
    "\n",
    "for dev_info in dev_info_list:\n",
    "    sn = dev_info.get(\"sn\")\n",
    "    cam = device_manager.open_device_by_sn(sn)\n",
    "    # 如果是黑白相机，则不支持\n",
    "    if cam.PixelColorFilter.is_implemented() is False:  # is_implemented判断枚举型属性参数是否已实现\n",
    "        print(\"该示例不支持黑白相机.\")\n",
    "        cam.close_device()\n",
    "    else:\n",
    "        print_promotion(\"打开彩色摄像机成功，SN号为：%s，开始采集......\" % sn)\n",
    "\n",
    "    # 设置相机参数\n",
    "    # camera_params_setting(cam, framerate_set)\n",
    "\n",
    "    # 等待五秒，调整白平衡和曝光\n",
    "    # time.sleep(5)\n",
    "\n",
    "    # 相机采集设置\n",
    "    # acquisition_setting(cam, num, framerate_set)\n",
    "\n",
    "    # 停止采集并关闭相机\n",
    "    cam.stream_off()\n",
    "    cam.close_device()\n",
    "    print_promotion(\"摄像机 {} 已经停止采集，设备已经关闭！\".format(sn))\n",
    "\n"
   ],
   "outputs": [
    {
     "name": "stdout",
     "output_type": "stream",
     "text": [
      "\n",
      "-------------------------------------------------------------\n",
      "打开彩色摄像机成功，SN号为：LKS24040027，开始采集......\n",
      "-------------------------------------------------------------\n",
      "\n",
      "\n",
      "-------------------------------------------------------------\n",
      "摄像机 LKS24040027 已经停止采集，设备已经关闭！\n",
      "-------------------------------------------------------------\n",
      "\n"
     ]
    }
   ],
   "execution_count": 5
  },
  {
   "cell_type": "code",
   "execution_count": null,
   "metadata": {},
   "outputs": [],
   "source": ""
  }
 ],
 "metadata": {
  "kernelspec": {
   "display_name": "Pytorch",
   "language": "python",
   "name": "pytorch"
  },
  "language_info": {
   "codemirror_mode": {
    "name": "ipython",
    "version": 3
   },
   "file_extension": ".py",
   "mimetype": "text/x-python",
   "name": "python",
   "nbconvert_exporter": "python",
   "pygments_lexer": "ipython3",
   "version": "3.10.9"
  }
 },
 "nbformat": 4,
 "nbformat_minor": 2
}
